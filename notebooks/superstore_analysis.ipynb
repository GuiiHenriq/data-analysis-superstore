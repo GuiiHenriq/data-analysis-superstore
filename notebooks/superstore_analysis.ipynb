{
 "cells": [
  {
   "cell_type": "markdown",
   "metadata": {},
   "source": [
    "# Importing Libraries"
   ]
  },
  {
   "cell_type": "code",
   "execution_count": 1,
   "metadata": {},
   "outputs": [],
   "source": [
    "from pathlib import Path\n",
    "import pandas as pd\n",
    "from sqlalchemy import create_engine\n",
    "import matplotlib.pyplot as plt\n",
    "import seaborn as sns"
   ]
  },
  {
   "cell_type": "markdown",
   "metadata": {},
   "source": [
    "# Load Dataset and Import to SQLite"
   ]
  },
  {
   "cell_type": "code",
   "execution_count": 16,
   "metadata": {},
   "outputs": [
    {
     "data": {
      "text/plain": [
       "9994"
      ]
     },
     "execution_count": 16,
     "metadata": {},
     "output_type": "execute_result"
    }
   ],
   "source": [
    "notebook_dir = Path.cwd()\n",
    "\n",
    "path_data_raw = notebook_dir.parent / 'data' / 'raw' / 'superstore_sales.csv'\n",
    "path_db = notebook_dir.parent / 'data' / 'db' / 'sales_data.db'\n",
    "df = pd.read_csv(path_data_raw, encoding='latin1')\n",
    "engine = create_engine(f'sqlite:///{path_db}')\n",
    "df.to_sql('superstore', engine, if_exists='replace', index=False)"
   ]
  },
  {
   "cell_type": "markdown",
   "metadata": {},
   "source": [
    "# Read Data and Explore"
   ]
  },
  {
   "cell_type": "code",
   "execution_count": 20,
   "metadata": {},
   "outputs": [
    {
     "name": "stdout",
     "output_type": "stream",
     "text": [
      "   Row ID        Order ID  Order Date   Ship Date       Ship Mode Customer ID  \\\n",
      "0       1  CA-2016-152156   11/8/2016  11/11/2016    Second Class    CG-12520   \n",
      "1       2  CA-2016-152156   11/8/2016  11/11/2016    Second Class    CG-12520   \n",
      "2       3  CA-2016-138688   6/12/2016   6/16/2016    Second Class    DV-13045   \n",
      "3       4  US-2015-108966  10/11/2015  10/18/2015  Standard Class    SO-20335   \n",
      "4       5  US-2015-108966  10/11/2015  10/18/2015  Standard Class    SO-20335   \n",
      "5       6  CA-2014-115812    6/9/2014   6/14/2014  Standard Class    BH-11710   \n",
      "6       7  CA-2014-115812    6/9/2014   6/14/2014  Standard Class    BH-11710   \n",
      "7       8  CA-2014-115812    6/9/2014   6/14/2014  Standard Class    BH-11710   \n",
      "8       9  CA-2014-115812    6/9/2014   6/14/2014  Standard Class    BH-11710   \n",
      "9      10  CA-2014-115812    6/9/2014   6/14/2014  Standard Class    BH-11710   \n",
      "\n",
      "     Customer Name    Segment        Country             City  ...  \\\n",
      "0      Claire Gute   Consumer  United States        Henderson  ...   \n",
      "1      Claire Gute   Consumer  United States        Henderson  ...   \n",
      "2  Darrin Van Huff  Corporate  United States      Los Angeles  ...   \n",
      "3   Sean O'Donnell   Consumer  United States  Fort Lauderdale  ...   \n",
      "4   Sean O'Donnell   Consumer  United States  Fort Lauderdale  ...   \n",
      "5  Brosina Hoffman   Consumer  United States      Los Angeles  ...   \n",
      "6  Brosina Hoffman   Consumer  United States      Los Angeles  ...   \n",
      "7  Brosina Hoffman   Consumer  United States      Los Angeles  ...   \n",
      "8  Brosina Hoffman   Consumer  United States      Los Angeles  ...   \n",
      "9  Brosina Hoffman   Consumer  United States      Los Angeles  ...   \n",
      "\n",
      "  Postal Code  Region       Product ID         Category Sub-Category  \\\n",
      "0       42420   South  FUR-BO-10001798        Furniture    Bookcases   \n",
      "1       42420   South  FUR-CH-10000454        Furniture       Chairs   \n",
      "2       90036    West  OFF-LA-10000240  Office Supplies       Labels   \n",
      "3       33311   South  FUR-TA-10000577        Furniture       Tables   \n",
      "4       33311   South  OFF-ST-10000760  Office Supplies      Storage   \n",
      "5       90032    West  FUR-FU-10001487        Furniture  Furnishings   \n",
      "6       90032    West  OFF-AR-10002833  Office Supplies          Art   \n",
      "7       90032    West  TEC-PH-10002275       Technology       Phones   \n",
      "8       90032    West  OFF-BI-10003910  Office Supplies      Binders   \n",
      "9       90032    West  OFF-AP-10002892  Office Supplies   Appliances   \n",
      "\n",
      "                                        Product Name     Sales  Quantity  \\\n",
      "0                  Bush Somerset Collection Bookcase  261.9600         2   \n",
      "1  Hon Deluxe Fabric Upholstered Stacking Chairs,...  731.9400         3   \n",
      "2  Self-Adhesive Address Labels for Typewriters b...   14.6200         2   \n",
      "3      Bretford CR4500 Series Slim Rectangular Table  957.5775         5   \n",
      "4                     Eldon Fold 'N Roll Cart System   22.3680         2   \n",
      "5  Eldon Expressions Wood and Plastic Desk Access...   48.8600         7   \n",
      "6                                         Newell 322    7.2800         4   \n",
      "7                     Mitel 5320 IP Phone VoIP phone  907.1520         6   \n",
      "8  DXL Angle-View Binders with Locking Rings by S...   18.5040         3   \n",
      "9                   Belkin F5C206VTEL 6 Outlet Surge  114.9000         5   \n",
      "\n",
      "   Discount    Profit  \n",
      "0      0.00   41.9136  \n",
      "1      0.00  219.5820  \n",
      "2      0.00    6.8714  \n",
      "3      0.45 -383.0310  \n",
      "4      0.20    2.5164  \n",
      "5      0.00   14.1694  \n",
      "6      0.00    1.9656  \n",
      "7      0.20   90.7152  \n",
      "8      0.20    5.7825  \n",
      "9      0.00   34.4700  \n",
      "\n",
      "[10 rows x 21 columns]\n"
     ]
    }
   ],
   "source": [
    "df = pd.read_sql('SELECT * FROM superstore LIMIT 10', engine)\n",
    "print(df)"
   ]
  },
  {
   "cell_type": "code",
   "execution_count": null,
   "metadata": {},
   "outputs": [],
   "source": []
  }
 ],
 "metadata": {
  "kernelspec": {
   "display_name": "Python 3 (ipykernel)",
   "language": "python",
   "name": "python3"
  },
  "language_info": {
   "codemirror_mode": {
    "name": "ipython",
    "version": 3
   },
   "file_extension": ".py",
   "mimetype": "text/x-python",
   "name": "python",
   "nbconvert_exporter": "python",
   "pygments_lexer": "ipython3",
   "version": "3.12.3"
  }
 },
 "nbformat": 4,
 "nbformat_minor": 4
}
